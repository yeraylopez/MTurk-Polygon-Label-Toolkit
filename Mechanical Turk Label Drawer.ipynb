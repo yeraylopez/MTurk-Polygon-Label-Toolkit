{
 "cells": [
  {
   "cell_type": "markdown",
   "metadata": {},
   "source": [
    "# Mechanical Turk Label Drawer for Polygon Labels"
   ]
  },
  {
   "cell_type": "markdown",
   "metadata": {},
   "source": [
    "This notebook allows us to use the AWS SDK to pull information from batches assigned to workers in order to draw labels recieved onto our dataset for review.\n"
   ]
  },
  {
   "cell_type": "code",
   "execution_count": null,
   "metadata": {},
   "outputs": [],
   "source": [
    "import boto3\n",
    "import keys\n",
    "import pandas as pd\n",
    "import json\n",
    "import csv\n",
    "import cv2\n",
    "import numpy as np\n",
    "import matplotlib.pyplot as plt\n",
    "import matplotlib.patches as patches\n",
    "import requests\n",
    "import xmltodict\n",
    "\n",
    "from IPython.display import display, HTML\n",
    "from io import BytesIO\n",
    "from PIL import Image\n"
   ]
  },
  {
   "cell_type": "markdown",
   "metadata": {},
   "source": [
    "## Classes:"
   ]
  },
  {
   "cell_type": "markdown",
   "metadata": {},
   "source": [
    "### AWS SDK Class"
   ]
  },
  {
   "cell_type": "code",
   "execution_count": null,
   "metadata": {},
   "outputs": [],
   "source": [
    "# # # # AWS API # # # #\n",
    "class AWS():\n",
    "    \"\"\"Operating System Tools Class\"\"\"\n",
    "    # Intializes AWS SDK with Credentials provided in keys.py\n",
    "    def botoStart():\n",
    "        mturk = boto3.client('mturk', aws_access_key_id=keys.key1, aws_secret_access_key=keys.key2,region_name='us-east-1',\n",
    "                              endpoint_url = 'https://mturk-requester.us-east-1.amazonaws.com/')\n",
    "        return mturk\n",
    "    \n",
    "    # Returns the labels for a particular HIT_ID\n",
    "    def workerRes(mturk,hit_id):\n",
    "        \n",
    "        worker_results = mturk.list_assignments_for_hit(HITId=hit_id, AssignmentStatuses=['Submitted'])\n",
    "\n",
    "        if worker_results['NumResults'] > 0:\n",
    "            for assignment in worker_results['Assignments']:\n",
    "                xml_doc = xmltodict.parse(assignment['Answer'])\n",
    "\n",
    "                #print(\"Worker's answer was:\")\n",
    "\n",
    "                if type(xml_doc['QuestionFormAnswers']['Answer']) is list:\n",
    "                    # Multiple fields in HIT layout\n",
    "                    # This one is the one in use since we have multiple fields\n",
    "                    for answer_field in xml_doc['QuestionFormAnswers']['Answer']:\n",
    "                        print(\"For input field: \" + answer_field['QuestionIdentifier'])\n",
    "                        print(\"Submitted answer: \" + answer_field['FreeText'])\n",
    "                else:\n",
    "                    # One field found in HIT layout\n",
    "                    print(\"For input field: \" + xml_doc['QuestionFormAnswers']['Answer']['QuestionIdentifier'])\n",
    "                    print(\"Submitted answer: \" + xml_doc['QuestionFormAnswers']['Answer']['FreeText'])\n",
    "\n",
    "        else:\n",
    "            print(\"No results ready yet\")\n",
    "            \n",
    "        return answer_field['FreeText']"
   ]
  },
  {
   "cell_type": "markdown",
   "metadata": {},
   "source": [
    "### CSV Tools"
   ]
  },
  {
   "cell_type": "code",
   "execution_count": 1,
   "metadata": {},
   "outputs": [],
   "source": [
    "# # # # CSV Tools # # # #\n",
    "class CSVTools():\n",
    "    \n",
    "    # Extract the HIT list from the batch report\n",
    "    def CSVBatchtoHitList(filename):\n",
    "        \n",
    "        try:\n",
    "            csvPath = (\"./Batch_Reports/\" + filename)\n",
    "            hit_list = []\n",
    "            \n",
    "            colnames = ['HITId']\n",
    "            data = pd.read_csv(csvPath, usecols=[\"HITId\"], names=colnames)\n",
    "            hit_list = data.HITId.tolist()\n",
    "            del hit_list[0]\n",
    "            \n",
    "            print(\"Current file: \" + filename)\n",
    "            print()\n",
    "            print(\"Number of HITs: \" + str(len(hit_list)))\n",
    "        \n",
    "        except:\n",
    "            print(filename + \" not found!\")\n",
    "            \n",
    "        return hit_list\n",
    "    \n",
    "    # Extract list of image urls from the batch report\n",
    "    def CSVBatchtoImageList(filename):\n",
    "    \n",
    "        try:\n",
    "            csvPath = (\"./Batch_Reports/\" + filename)\n",
    "            image_list = []\n",
    "            \n",
    "            colnames = ['Input.image_url']\n",
    "            data = pd.read_csv(csvPath, usecols=[27], names=colnames)\n",
    "            image_list = data['Input.image_url'].tolist()\n",
    "            del image_list[0]\n",
    "            \n",
    "            print(\"Current file: \" + filename)\n",
    "            print()\n",
    "            print(\"Number of Images: \" + str(len(hit_list)))\n",
    "        \n",
    "        except:\n",
    "            print(filename + \" not found!\")\n",
    "        return image_list"
   ]
  },
  {
   "cell_type": "code",
   "execution_count": null,
   "metadata": {},
   "outputs": [],
   "source": [
    "# # # # OpenCV # # # #\n",
    "class OpenCVTools():\n",
    "    \n",
    "    def labelDrawer2bmp(realJson,img,image_url,file_prefix):\n",
    "        \n",
    "        # Create empty list for labels\n",
    "        Label_1list = list()\n",
    "        Label_2list = list()\n",
    "        \n",
    "        # Iterate through json to generate a list of coordinates for the labels to draw using OpenCV2\n",
    "        for target in realJson:\n",
    "            if (target['label'] == 'Label_1'):\n",
    "                print('entered Label_1')\n",
    "                # Create an x,y numpy array\n",
    "                for v in target['vertices']:\n",
    "                    temp = np.array([v['x'], v['y']])\n",
    "                    Label_1list.append(temp)\n",
    "\n",
    "            if (target['label'] == 'Label_2'):\n",
    "                print('entered Label_2')\n",
    "                # create an array of the x and the y\n",
    "                for v in target['vertices']:\n",
    "                    temp = np.array([v['x'], v['y']])\n",
    "                    Label_2list.append(temp)\n",
    "\n",
    "            # Draw the Label_1 and clear the list & array\n",
    "            Label_1Array = np.array(Label_1list)\n",
    "            cv2.polylines(img,[Label_1Array],True,(0,255,255))\n",
    "            Label_1Array.fill(0)\n",
    "            Label_1list.clear()\n",
    "\n",
    "            # Draw the Label_2 and clear the list & array\n",
    "            Label_2Array = np.array(Label_2list)\n",
    "            cv2.polylines(img,[Label_2Array],True,(0,255,255))\n",
    "            Label_2Array.fill(0)\n",
    "            Label_2list.clear()\n",
    "\n",
    "        # Write labeled image to bitmap\n",
    "        cv2.imwrite(\"./Batch_Pictures/\" + file_prefix +'/' + image_url + \".bmp\", img)"
   ]
  },
  {
   "cell_type": "markdown",
   "metadata": {},
   "source": [
    "## Main Program"
   ]
  },
  {
   "cell_type": "code",
   "execution_count": null,
   "metadata": {},
   "outputs": [],
   "source": [
    "# Start up boto instance\n",
    "mturk       = AWS.botoStart()\n",
    "\n",
    "# Configure batch filename following Set#Batch + Report.csv format\n",
    "# can be altered to your batch naming convention\n",
    "file_prefix = 'Set1Batch'\n",
    "file_name   = file_prefix + 'Report.csv'\n",
    "\n",
    "# Generate HIT List from batch report\n",
    "hit_list = CSVTools.CSVBatchtoHitList(file_name)\n",
    "\n",
    "# Generate Image List from batch report\n",
    "image_list = CSVTools.CSVBatchtoImageList(file_name)"
   ]
  },
  {
   "cell_type": "code",
   "execution_count": null,
   "metadata": {},
   "outputs": [],
   "source": [
    "# Set S3 Bucket Prefix where images are hosted\n",
    "S3_Bucket_Prefix = \"https://mturkbucketglab.s3.amazonaws.com/BUCKET_GOES_HERE\"\n",
    "\n",
    "# Iterate through HIT's to generate labeled images as bitmaps\n",
    "for hit_id, image_url in zip(hit_list,image_list):\n",
    "    # Call Worker Results and return json string\n",
    "    jsonStr = AWS.workerRes(mturk,hit_id)\n",
    "    \n",
    "    # Converts string to json\n",
    "    realJson = json.loads(jsonStr)\n",
    "    \n",
    "    # Generate full url for each image\n",
    "    full_url = S3_Bucket_Prefix + image_url\n",
    "    response = requests.get(full_url)\n",
    "    \n",
    "    # Grab image and store as a numpy array for CV2 use\n",
    "    img = np.array(Image.open(BytesIO(response.content)), dtype=np.uint8)\n",
    "    \n",
    "    # Generate BitMaps for every image that was labeled\n",
    "    OpenCVTools.labelDrawer2bmp(realJson,img,image_url, file_prefix)\n",
    "    "
   ]
  }
 ],
 "metadata": {
  "kernelspec": {
   "display_name": "Python 3",
   "language": "python",
   "name": "python3"
  },
  "language_info": {
   "codemirror_mode": {
    "name": "ipython",
    "version": 3
   },
   "file_extension": ".py",
   "mimetype": "text/x-python",
   "name": "python",
   "nbconvert_exporter": "python",
   "pygments_lexer": "ipython3",
   "version": "3.7.6"
  }
 },
 "nbformat": 4,
 "nbformat_minor": 2
}
