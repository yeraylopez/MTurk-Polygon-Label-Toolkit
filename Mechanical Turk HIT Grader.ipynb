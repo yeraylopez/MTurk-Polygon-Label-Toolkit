{
 "cells": [
  {
   "cell_type": "markdown",
   "metadata": {},
   "source": [
    "# Mechanical Turk HIT Grader"
   ]
  },
  {
   "cell_type": "markdown",
   "metadata": {},
   "source": [
    "TODO: \n",
    "* Undo button Z\n",
    "* Display approved images\n",
    "* Make report function to see average time spent per image and total time spent \n",
    "* Detect Approved images copy and purge from original set and pool approved images\n",
    "* If assignment status is already approved/rejected DO NOT INCLUDE IN GRADER\n",
    "* Function to display by WorkerID"
   ]
  },
  {
   "cell_type": "markdown",
   "metadata": {},
   "source": [
    "How the batch report approval process works:\n",
    "\n",
    "Either Approve a submission by placing X in the column or provided rejection reason in the rejection column\n",
    "\n",
    "I have streamlined this by using pyQT to create a UI that allows us to accept and reject by pressing \"Y\" or \"N\" which speeds up our efficiency to grade labels immensensely."
   ]
  },
  {
   "cell_type": "markdown",
   "metadata": {},
   "source": [
    "You can't really modify values in the existing CSV file. Instead, you need to:\n",
    "\n",
    "- Import the batch report file as a data frame\n",
    "- Modify the dataframe\n",
    "- Export modified data frame to save results  "
   ]
  },
  {
   "cell_type": "markdown",
   "metadata": {},
   "source": [
    "## Functions"
   ]
  },
  {
   "cell_type": "code",
   "execution_count": 1,
   "metadata": {},
   "outputs": [],
   "source": [
    "def upscale(img):\n",
    "#import cv2\n",
    "\n",
    "    #img = cv2.imread('./test.bmp', cv2.IMREAD_UNCHANGED)\n",
    "\n",
    "    #print('Original Dimensions : ',img.shape)\n",
    "\n",
    "    scale_percent = 175 # percent of original size\n",
    "    width = int(img.shape[1] * scale_percent / 100)\n",
    "    height = int(img.shape[0] * scale_percent / 100)\n",
    "    dim = (width, height)\n",
    "    # resize image\n",
    "    resized = cv2.resize(img, dim, interpolation = cv2.INTER_AREA)\n",
    "\n",
    "    #print('Resized Dimensions : ',resized.shape)\n",
    "\n",
    "    #cv2.imshow(\"Resized image\", resized)\n",
    "    #cv2.waitKey(0)\n",
    "    #cv2.destroyAllWindows()\n",
    "    \n",
    "    return resized\n",
    "\n",
    "def displaybyWorkerID(batchName,workerID):\n",
    "    \n",
    "    ## create df\n",
    "    ## find row values with workerID\n",
    "    ## extract image_url at that row\n",
    "    ## find image\n",
    "    ## scan directory of annotated images to copy and move image_url + \".bmp\"\n",
    "    \n",
    "    \n",
    "    \n",
    "    df = pd.read_csv(\"./Batch_Reports/\" + batchName + \"Report.csv\")\n",
    "    df = df.rename(columns={'Input.image_url': 'image_url'})\n",
    "    \n",
    "    ## extract image URL \n",
    "    ## get row number\n",
    "    ## if row doesnt contain given workerID in workerID column skip to next image\n",
    "    \n",
    "    for image_path in glob.glob(\".\\\\Batch_Pictures\\\\\"+ batchName +\"\\\\*.bmp\"):\n",
    "\n",
    "        image_url = Path(image_path).stem\n",
    "        image_url = image_url.replace(\".bmp\",'')\n",
    "        rownum = df.index[df.image_url == (image_url)]\n",
    "\n",
    "        res = df.loc[rownum,'WorkerId']\n",
    "        res = res.to_string(index = False)\n",
    "        res = res.replace(\" \",\"\")\n",
    "            \n",
    "        if(res == workerID):\n",
    "            #img = cv2.imread(image_path,0) #white line aesthetic\n",
    "            img = cv2.imread(image_path,cv2.IMREAD_UNCHANGED)\n",
    "            resized_img = upscale(img)\n",
    "            cv2.imshow('image',resized_img)\n",
    "            cv2.imwrite(\"./Batch_Pictures/\" + workerID + \"/\" + image_url + \".bmp\", resized_img)\n",
    "            #rownum = 0\n",
    "\n",
    "            k = cv2.waitKey(0)\n",
    "            if k == 27:         # wait for ESC key to exit\n",
    "                cv2.destroyAllWindows()\n",
    "                break\n",
    "            elif k == ord('y'): # wait for 'y' key\n",
    "                cv2.destroyAllWindows()\n",
    "                \n",
    "    cv2.destroyAllWindows()\n",
    "    return\n",
    "\n",
    "def Grader(batchName):\n",
    "    \n",
    "    df = pd.read_csv(\"./Batch_Reports/\" + batchName + \"Report.csv\")\n",
    "    df = df.rename(columns={'Input.image_url': 'image_url'})\n",
    "    \n",
    "    for image_path in glob.glob(\".\\\\Batch_Pictures\\\\\"+ batchName +\"\\\\*.bmp\"):\n",
    "\n",
    "        #img = cv2.imread(image_path,0) #white line aesthetic\n",
    "        img = cv2.imread(image_path,cv2.IMREAD_UNCHANGED)\n",
    "        resized_img = upscale(img)\n",
    "        cv2.imshow('image',resized_img)\n",
    "\n",
    "        #print(image_path)\n",
    "        image_url = Path(image_path).stem\n",
    "        image_url = image_url.replace(\".bmp\",'')\n",
    "        #print(image_url)\n",
    "\n",
    "        rownum = df.index[df.image_url == (image_url)]\n",
    "\n",
    "        k = cv2.waitKey(0)\n",
    "        if k == 27:         # wait for ESC key to exit\n",
    "            cv2.destroyAllWindows()\n",
    "            break\n",
    "        elif k == ord('y'): # wait for 'y' key to approve\n",
    "            df.at[rownum, 'Approve'] = 'x'\n",
    "            cv2.destroyAllWindows()\n",
    "\n",
    "            # Todo: MOVE IMAGE TO AN APPROVED FOLDER INSIDE NESTED BATCH FOLDER AND DELETE IN BATCH FOLDER\n",
    "\n",
    "        elif k == ord('n'): # wait for 'n' key to reject\n",
    "            df.at[rownum, 'Reject'] = 'Poor label: Not up to standard provided in video'\n",
    "            cv2.destroyAllWindows()\n",
    "            #update csv or list by entering key\n",
    "            #update to corresponding row\n",
    "            \n",
    "    df.to_csv(\"./Batch_Reports/\" + batchName + \"Verdict.csv\", index=False)\n",
    "    \n",
    "    return \n",
    "    "
   ]
  },
  {
   "cell_type": "markdown",
   "metadata": {},
   "source": [
    "## Main Program"
   ]
  },
  {
   "cell_type": "code",
   "execution_count": 7,
   "metadata": {},
   "outputs": [],
   "source": [
    "import glob\n",
    "import cv2\n",
    "import os\n",
    "import pandas as pd\n",
    "from pathlib import Path"
   ]
  },
  {
   "cell_type": "code",
   "execution_count": 8,
   "metadata": {},
   "outputs": [],
   "source": [
    "# Batch Report Name\n",
    "batchName = \"Set4Batch\""
   ]
  },
  {
   "cell_type": "code",
   "execution_count": null,
   "metadata": {},
   "outputs": [],
   "source": [
    "Grader(batchName)"
   ]
  },
  {
   "cell_type": "markdown",
   "metadata": {},
   "source": [
    "## Review and extract results on a worker based on ID \n",
    "**I added this is in because I got email's from worker's claiming that they correctly labeled images when in fact did not.**"
   ]
  },
  {
   "cell_type": "code",
   "execution_count": 11,
   "metadata": {},
   "outputs": [],
   "source": [
    "workerID = \"A24H9XZ7OE8WMW\"\n",
    "\n",
    "os.mkdir(\"./Batch_Pictures/\" + workerID)\n",
    "\n",
    "for batchNumber in range (1,6):\n",
    "    batchName = \"Set\" + str(batchNumber) + \"Batch\"\n",
    "    displaybyWorkerID(batchName,workerID)"
   ]
  }
 ],
 "metadata": {
  "kernelspec": {
   "display_name": "Python 3",
   "language": "python",
   "name": "python3"
  },
  "language_info": {
   "codemirror_mode": {
    "name": "ipython",
    "version": 3
   },
   "file_extension": ".py",
   "mimetype": "text/x-python",
   "name": "python",
   "nbconvert_exporter": "python",
   "pygments_lexer": "ipython3",
   "version": "3.7.6"
  }
 },
 "nbformat": 4,
 "nbformat_minor": 2
}
